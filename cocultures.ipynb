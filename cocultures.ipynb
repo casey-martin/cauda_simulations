{
 "cells": [
  {
   "cell_type": "markdown",
   "id": "34e71925-d0d3-49b7-a17d-cb71dd7e8e00",
   "metadata": {},
   "source": [
    "# Micom Co-Culture Experiments\n",
    "This Jupyter Notebook uses Micom to perform a series of simulated co-culture experiments for bacterial species in the Agora genome-scale metabolic model database. Micom enables us to remove individual organisms from the community (knockouts) to determine the resulting impact on growth rates to the remaining community members. For example, a bacterial community $C$ consists of $microbe_i$ and $microbe_j$. If a knockout of $microbe_i$ from $C$ results in a decreased in growth rate in $microbe_j$, then that would signal a positive influence of $microbe_i$ on $microbe_j$.\n",
    "\n",
    "Unfortunately, the native `micom` workflow has issues with non terminating jobs, and the results are blocked until all jobs are complete. We must instead convert this into a containerized deployment so we can easily terminate jobs that take too long to run. We also need to implement a queue system that submits simulation conditions (the metabolic database, a set of indices from the database to use as a community, the relative abundances of that community, and a base medium formulation) to a job queue. These results are then stored in a postgres database for later analysis."
   ]
  },
  {
   "cell_type": "code",
   "execution_count": 2,
   "id": "19da8140-b287-4b4e-9b89-827e9742e56b",
   "metadata": {},
   "outputs": [],
   "source": [
    "from functools import partial\n",
    "from itertools import combinations\n",
    "from micom import Community, data\n",
    "from micom.qiime_formats import load_qiime_model_db, load_qiime_medium\n",
    "import numpy as np\n",
    "import pandas as pd\n",
    "import warnings\n",
    "\n",
    "\n",
    "def calc_kos(medium_series, agora_df, indices):\n",
    "  \"\"\"\n",
    "  Calculate the effects of single member knockouts on a community.\n",
    "\n",
    "  Parameters:\n",
    "    medium_series (pandas Series) : A pandas series containing the base medium formulation for the simulation.\n",
    "    agora_df (pandas DataFrame) : The Agora database as a pandas dataframe.\n",
    "    indices (list of ints) : A list of indices from `agora_df` to use in the community.\n",
    "  \"\"\"\n",
    "  tax = agora_df.loc[indices,]\n",
    "  tax['id'] = tax['id'].apply(str)\n",
    "    \n",
    "  try:\n",
    "    com = Community(tax,\n",
    "                      progress=False)\n",
    "    com.medium = medium_series\n",
    "    ko = com.knockout_taxa(fraction=1.0, \n",
    "                             method=\"relative change\", \n",
    "                             diag=False,\n",
    "                             progress=False)\n",
    " \n",
    "  # convert dataframe from wide to long format\n",
    "    ko['knockout'] = ko.index\n",
    "    ko = ko.melt(id_vars=[\"knockout\"], \n",
    "               var_name=\"kept\", \n",
    "               value_name=\"kept_relative_change\")\n",
    "    ko = ko.dropna()\n",
    "    ko['error'] = 'None'\n",
    "\n",
    "  # log errors for failed knockout\n",
    "  except Exception as e:\n",
    "    ko = pd.DataFrame({\"knockout\":list(tax.id),\n",
    "                       \"kept\":list(tax.id)[::-1],\n",
    "                       \"kept_relative_change\":[np.nan]*2})\n",
    "    ko['error'] = e\n",
    "\n",
    "  ko['SampleID'] = \"_\".join(sorted(list(tax.id)))\n",
    "\n",
    "  return(ko)\n",
    "\n",
    "\n",
    "def interpolate_fluxes(medium_1, medium_2, n, \n",
    "                       flux_col_1='flux', flux_col_2='flux'):\n",
    "    \"\"\"\n",
    "    Interpolates fluxes between two chemical environments.\n",
    "    \n",
    "    Parameters:\n",
    "    medium_1 (pd.DataFrame): DataFrame containing the fluxes for the medium_1.\n",
    "    medium_2 (pd.DataFrame): DataFrame containing the fluxes for the medium_2.\n",
    "    n (float): Interpolation factor (0 <= n <= 1).\n",
    "    \n",
    "    Returns:\n",
    "    pd.Series: Interpolated fluxes.\n",
    "    \"\"\"\n",
    "    if not (0 <= n <= 1):\n",
    "        raise ValueError(\"n must be between 0 and 1\")\n",
    "    \n",
    "    # Extract the flux series from the dataframes\n",
    "    medium_1_series = medium_1[flux_col_1]\n",
    "    medium_2_series = medium_2[flux_col_2]\n",
    "    \n",
    "    # Combine the indices of both series and remove duplicates\n",
    "    all_rxns = list(set(medium_1_series.index).union(set(medium_2_series.index)))\n",
    "    \n",
    "    # Ensure indices are unique and create DataFrame with both series\n",
    "    medium_1_series = medium_1_series[~medium_1_series.index.duplicated(keep='first')]\n",
    "    medium_2_series = medium_2_series[~medium_2_series.index.duplicated(keep='first')]\n",
    "    \n",
    "    combined_df = pd.DataFrame(index=all_rxns)\n",
    "    combined_df['medium_1_flux'] = medium_1_series.reindex(combined_df.index)\n",
    "    combined_df['medium_2_flux'] = medium_2_series.reindex(combined_df.index)\n",
    "    \n",
    "    # Fill NaN values with 0 (assuming missing flux is 0)\n",
    "    combined_df = combined_df.fillna(0)\n",
    "    \n",
    "    # Linearly interpolate the fluxes\n",
    "    interpolated_flux = (1 - n) * combined_df['medium_1_flux'] + n * combined_df['medium_2_flux']\n",
    "    return interpolated_flux"
   ]
  },
  {
   "cell_type": "code",
   "execution_count": 3,
   "id": "0fb85f16-2973-4929-9fb0-27878e7141b4",
   "metadata": {},
   "outputs": [
    {
     "ename": "FileNotFoundError",
     "evalue": "[Errno 2] No such file or directory: 'agora103_species.qza'",
     "output_type": "error",
     "traceback": [
      "\u001b[0;31m---------------------------------------------------------------------------\u001b[0m",
      "\u001b[0;31mFileNotFoundError\u001b[0m                         Traceback (most recent call last)",
      "Cell \u001b[0;32mIn[3], line 3\u001b[0m\n\u001b[1;32m      1\u001b[0m warnings\u001b[38;5;241m.\u001b[39mfilterwarnings(\u001b[38;5;124m\"\u001b[39m\u001b[38;5;124mignore\u001b[39m\u001b[38;5;124m\"\u001b[39m, category\u001b[38;5;241m=\u001b[39m\u001b[38;5;167;01mFutureWarning\u001b[39;00m)\n\u001b[0;32m----> 3\u001b[0m agora_df \u001b[38;5;241m=\u001b[39m \u001b[43mload_qiime_model_db\u001b[49m\u001b[43m(\u001b[49m\u001b[38;5;124;43m\"\u001b[39;49m\u001b[38;5;124;43magora103_species.qza\u001b[39;49m\u001b[38;5;124;43m\"\u001b[39;49m\u001b[43m,\u001b[49m\u001b[43m \u001b[49m\u001b[43mextract_path\u001b[49m\u001b[43m \u001b[49m\u001b[38;5;241;43m=\u001b[39;49m\u001b[43m \u001b[49m\u001b[38;5;124;43m\"\u001b[39;49m\u001b[38;5;124;43m./\u001b[39;49m\u001b[38;5;124;43m\"\u001b[39;49m\u001b[43m)\u001b[49m\n\u001b[1;32m      5\u001b[0m \u001b[38;5;66;03m# western diet\u001b[39;00m\n\u001b[1;32m      6\u001b[0m wd \u001b[38;5;241m=\u001b[39m load_qiime_medium(\u001b[38;5;124m\"\u001b[39m\u001b[38;5;124mwestern_diet_gut.qza\u001b[39m\u001b[38;5;124m\"\u001b[39m)\n",
      "File \u001b[0;32m~/micromamba/envs/micom/lib/python3.11/site-packages/micom/qiime_formats.py:34\u001b[0m, in \u001b[0;36mload_qiime_model_db\u001b[0;34m(artifact, extract_path)\u001b[0m\n\u001b[1;32m     32\u001b[0m \u001b[38;5;28;01mif\u001b[39;00m \u001b[38;5;129;01mnot\u001b[39;00m path\u001b[38;5;241m.\u001b[39mexists(extract_path):\n\u001b[1;32m     33\u001b[0m     os\u001b[38;5;241m.\u001b[39mmkdir(extract_path)\n\u001b[0;32m---> 34\u001b[0m meta \u001b[38;5;241m=\u001b[39m \u001b[43mmetadata\u001b[49m\u001b[43m(\u001b[49m\u001b[43martifact\u001b[49m\u001b[43m)\u001b[49m\n\u001b[1;32m     35\u001b[0m \u001b[38;5;28;01mif\u001b[39;00m meta[\u001b[38;5;124m\"\u001b[39m\u001b[38;5;124mtype\u001b[39m\u001b[38;5;124m\"\u001b[39m] \u001b[38;5;241m!=\u001b[39m \u001b[38;5;124m\"\u001b[39m\u001b[38;5;124mMetabolicModels[JSON]\u001b[39m\u001b[38;5;124m\"\u001b[39m:\n\u001b[1;32m     36\u001b[0m     \u001b[38;5;28;01mraise\u001b[39;00m \u001b[38;5;167;01mValueError\u001b[39;00m(\u001b[38;5;124m\"\u001b[39m\u001b[38;5;132;01m%s\u001b[39;00m\u001b[38;5;124m is not a q2-micom model database :(\u001b[39m\u001b[38;5;124m\"\u001b[39m \u001b[38;5;241m%\u001b[39m artifact)\n",
      "File \u001b[0;32m~/micromamba/envs/micom/lib/python3.11/site-packages/micom/qiime_formats.py:18\u001b[0m, in \u001b[0;36mmetadata\u001b[0;34m(artifact)\u001b[0m\n\u001b[1;32m     16\u001b[0m \u001b[38;5;28;01mdef\u001b[39;00m \u001b[38;5;21mmetadata\u001b[39m(artifact):\n\u001b[1;32m     17\u001b[0m \u001b[38;5;250m    \u001b[39m\u001b[38;5;124;03m\"\"\"Read metadata from a Qiime 2 artifact.\"\"\"\u001b[39;00m\n\u001b[0;32m---> 18\u001b[0m     \u001b[38;5;28;01mwith\u001b[39;00m \u001b[43mZipFile\u001b[49m\u001b[43m(\u001b[49m\u001b[43martifact\u001b[49m\u001b[43m)\u001b[49m \u001b[38;5;28;01mas\u001b[39;00m zf:\n\u001b[1;32m     19\u001b[0m         files \u001b[38;5;241m=\u001b[39m zf\u001b[38;5;241m.\u001b[39mnamelist()\n\u001b[1;32m     20\u001b[0m         meta \u001b[38;5;241m=\u001b[39m [fi \u001b[38;5;28;01mfor\u001b[39;00m fi \u001b[38;5;129;01min\u001b[39;00m files\n\u001b[1;32m     21\u001b[0m                 \u001b[38;5;28;01mif\u001b[39;00m \u001b[38;5;124m\"\u001b[39m\u001b[38;5;124mmetadata.yaml\u001b[39m\u001b[38;5;124m\"\u001b[39m \u001b[38;5;129;01min\u001b[39;00m fi \u001b[38;5;129;01mand\u001b[39;00m \u001b[38;5;124m\"\u001b[39m\u001b[38;5;124mprovenance\u001b[39m\u001b[38;5;124m\"\u001b[39m \u001b[38;5;129;01mnot\u001b[39;00m \u001b[38;5;129;01min\u001b[39;00m fi]\n",
      "File \u001b[0;32m~/micromamba/envs/micom/lib/python3.11/zipfile.py:1284\u001b[0m, in \u001b[0;36mZipFile.__init__\u001b[0;34m(self, file, mode, compression, allowZip64, compresslevel, strict_timestamps, metadata_encoding)\u001b[0m\n\u001b[1;32m   1282\u001b[0m \u001b[38;5;28;01mwhile\u001b[39;00m \u001b[38;5;28;01mTrue\u001b[39;00m:\n\u001b[1;32m   1283\u001b[0m     \u001b[38;5;28;01mtry\u001b[39;00m:\n\u001b[0;32m-> 1284\u001b[0m         \u001b[38;5;28mself\u001b[39m\u001b[38;5;241m.\u001b[39mfp \u001b[38;5;241m=\u001b[39m \u001b[43mio\u001b[49m\u001b[38;5;241;43m.\u001b[39;49m\u001b[43mopen\u001b[49m\u001b[43m(\u001b[49m\u001b[43mfile\u001b[49m\u001b[43m,\u001b[49m\u001b[43m \u001b[49m\u001b[43mfilemode\u001b[49m\u001b[43m)\u001b[49m\n\u001b[1;32m   1285\u001b[0m     \u001b[38;5;28;01mexcept\u001b[39;00m \u001b[38;5;167;01mOSError\u001b[39;00m:\n\u001b[1;32m   1286\u001b[0m         \u001b[38;5;28;01mif\u001b[39;00m filemode \u001b[38;5;129;01min\u001b[39;00m modeDict:\n",
      "\u001b[0;31mFileNotFoundError\u001b[0m: [Errno 2] No such file or directory: 'agora103_species.qza'"
     ]
    }
   ],
   "source": [
    "warnings.filterwarnings(\"ignore\", category=FutureWarning)\n",
    "\n",
    "agora_df = load_qiime_model_db(\"data/agora103_species.qza\", extract_path = \"./\")\n",
    "\n",
    "# western diet\n",
    "wd = load_qiime_medium(\"data/western_diet_gut.qza\")\n",
    "# agrarian die\n",
    "ag = load_qiime_medium(\"data/vmh_high_fiber_agora.qza\")\n",
    "\n",
    "# interpolate between the two diets\n",
    "medium_series = interpolate_fluxes(wd, ag, 0.5)\n",
    "ko_results = calc_kos(medium_series, agora_df, [1, 10])"
   ]
  },
  {
   "cell_type": "code",
   "execution_count": 4,
   "id": "4c9e1da4",
   "metadata": {},
   "outputs": [
    {
     "ename": "NameError",
     "evalue": "name 'ko_results' is not defined",
     "output_type": "error",
     "traceback": [
      "\u001b[0;31m---------------------------------------------------------------------------\u001b[0m",
      "\u001b[0;31mNameError\u001b[0m                                 Traceback (most recent call last)",
      "Cell \u001b[0;32mIn[4], line 1\u001b[0m\n\u001b[0;32m----> 1\u001b[0m \u001b[43mko_results\u001b[49m\n",
      "\u001b[0;31mNameError\u001b[0m: name 'ko_results' is not defined"
     ]
    }
   ],
   "source": [
    "ko_results"
   ]
  },
  {
   "cell_type": "code",
   "execution_count": null,
   "id": "ab16e900",
   "metadata": {},
   "outputs": [],
   "source": []
  }
 ],
 "metadata": {
  "kernelspec": {
   "display_name": "Python 3 (ipykernel)",
   "language": "python",
   "name": "python3"
  },
  "language_info": {
   "codemirror_mode": {
    "name": "ipython",
    "version": 3
   },
   "file_extension": ".py",
   "mimetype": "text/x-python",
   "name": "python",
   "nbconvert_exporter": "python",
   "pygments_lexer": "ipython3",
   "version": "3.11.5"
  }
 },
 "nbformat": 4,
 "nbformat_minor": 5
}
